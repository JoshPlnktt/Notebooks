{
 "cells": [
  {
   "cell_type": "markdown",
   "metadata": {
    "id": "gLEEr6peWcF7"
   },
   "source": [
    "# Business Scenario and Problem\n",
    "\n",
    "The HR department at Salifort Motors wants to take some initiatives to improve employee satisfaction levels at the company. They collected data from employees, but now they don’t know what to do with it. They refer to me as a data analytics professional and ask me to provide data-driven suggestions based on your understanding of the data.\n",
    "\n",
    "My goals in this project are to analyze the data collected by the HR department and to build a model that predicts whether or not an employee will leave the company.\n",
    "\n",
    "If I can predict employees likely to quit, it might be possible to identify factors that contribute to their leaving. Because it is time-consuming and expensive to find, interview, and hire new employees, increasing employee retention will be beneficial to the company."
   ]
  },
  {
   "cell_type": "markdown",
   "metadata": {
    "id": "lnRdR6eacUkK"
   },
   "source": [
    "### Data Dictionary\n",
    "\n",
    "The dataset contains 15,000 rows and 10 columns for the variables listed below. \n",
    "\n",
    "Source: [Kaggle](https://www.kaggle.com/datasets/mfaisalqureshi/hr-analytics-and-job-prediction?select=HR_comma_sep.csv).\n",
    "\n",
    "Variable  |Description |\n",
    "-----|-----|\n",
    "satisfaction_level|Employee-reported job satisfaction level [0&ndash;1]|\n",
    "last_evaluation|Score of employee's last performance review [0&ndash;1]|\n",
    "number_project|Number of projects employee contributes to|\n",
    "average_monthly_hours|Average number of hours employee worked per month|\n",
    "time_spend_company|How long the employee has been with the company (years)\n",
    "Work_accident|Whether or not the employee experienced an accident while at work\n",
    "left|Whether or not the employee left the company\n",
    "promotion_last_5years|Whether or not the employee was promoted in the last 5 years\n",
    "Department|The employee's department\n",
    "salary|The employee's salary (U.S. dollars)"
   ]
  },
  {
   "cell_type": "markdown",
   "metadata": {
    "id": "Dfnvw1HZsfbd"
   },
   "source": [
    "## Imports\n",
    "\n",
    "*   Import packages\n",
    "*   Load dataset\n",
    "\n"
   ]
  },
  {
   "cell_type": "markdown",
   "metadata": {
    "id": "51UAXIOLC_8P"
   },
   "source": [
    "### Import packages"
   ]
  },
  {
   "cell_type": "code",
   "execution_count": 1,
   "metadata": {
    "id": "hVWGpX9As4e1"
   },
   "outputs": [],
   "source": [
    "# Operational\n",
    "import pandas as pd\n",
    "import numpy as np\n",
    "\n",
    "# Visualization\n",
    "import matplotlib.pyplot as plt\n",
    "import seaborn as sns"
   ]
  },
  {
   "cell_type": "markdown",
   "metadata": {
    "id": "zM2P9yLWDIjN"
   },
   "source": [
    "### Load dataset"
   ]
  },
  {
   "cell_type": "code",
   "execution_count": 2,
   "metadata": {
    "id": "Bs0cJR5BDPgQ"
   },
   "outputs": [
    {
     "data": {
      "text/html": [
       "<div>\n",
       "<style scoped>\n",
       "    .dataframe tbody tr th:only-of-type {\n",
       "        vertical-align: middle;\n",
       "    }\n",
       "\n",
       "    .dataframe tbody tr th {\n",
       "        vertical-align: top;\n",
       "    }\n",
       "\n",
       "    .dataframe thead th {\n",
       "        text-align: right;\n",
       "    }\n",
       "</style>\n",
       "<table border=\"1\" class=\"dataframe\">\n",
       "  <thead>\n",
       "    <tr style=\"text-align: right;\">\n",
       "      <th></th>\n",
       "      <th>satisfaction_level</th>\n",
       "      <th>last_evaluation</th>\n",
       "      <th>number_project</th>\n",
       "      <th>average_montly_hours</th>\n",
       "      <th>time_spend_company</th>\n",
       "      <th>Work_accident</th>\n",
       "      <th>left</th>\n",
       "      <th>promotion_last_5years</th>\n",
       "      <th>Department</th>\n",
       "      <th>salary</th>\n",
       "    </tr>\n",
       "  </thead>\n",
       "  <tbody>\n",
       "    <tr>\n",
       "      <th>0</th>\n",
       "      <td>0.38</td>\n",
       "      <td>0.53</td>\n",
       "      <td>2</td>\n",
       "      <td>157</td>\n",
       "      <td>3</td>\n",
       "      <td>0</td>\n",
       "      <td>1</td>\n",
       "      <td>0</td>\n",
       "      <td>sales</td>\n",
       "      <td>low</td>\n",
       "    </tr>\n",
       "    <tr>\n",
       "      <th>1</th>\n",
       "      <td>0.80</td>\n",
       "      <td>0.86</td>\n",
       "      <td>5</td>\n",
       "      <td>262</td>\n",
       "      <td>6</td>\n",
       "      <td>0</td>\n",
       "      <td>1</td>\n",
       "      <td>0</td>\n",
       "      <td>sales</td>\n",
       "      <td>medium</td>\n",
       "    </tr>\n",
       "    <tr>\n",
       "      <th>2</th>\n",
       "      <td>0.11</td>\n",
       "      <td>0.88</td>\n",
       "      <td>7</td>\n",
       "      <td>272</td>\n",
       "      <td>4</td>\n",
       "      <td>0</td>\n",
       "      <td>1</td>\n",
       "      <td>0</td>\n",
       "      <td>sales</td>\n",
       "      <td>medium</td>\n",
       "    </tr>\n",
       "    <tr>\n",
       "      <th>3</th>\n",
       "      <td>0.72</td>\n",
       "      <td>0.87</td>\n",
       "      <td>5</td>\n",
       "      <td>223</td>\n",
       "      <td>5</td>\n",
       "      <td>0</td>\n",
       "      <td>1</td>\n",
       "      <td>0</td>\n",
       "      <td>sales</td>\n",
       "      <td>low</td>\n",
       "    </tr>\n",
       "    <tr>\n",
       "      <th>4</th>\n",
       "      <td>0.37</td>\n",
       "      <td>0.52</td>\n",
       "      <td>2</td>\n",
       "      <td>159</td>\n",
       "      <td>3</td>\n",
       "      <td>0</td>\n",
       "      <td>1</td>\n",
       "      <td>0</td>\n",
       "      <td>sales</td>\n",
       "      <td>low</td>\n",
       "    </tr>\n",
       "  </tbody>\n",
       "</table>\n",
       "</div>"
      ],
      "text/plain": [
       "   satisfaction_level  last_evaluation  number_project  average_montly_hours  \\\n",
       "0                0.38             0.53               2                   157   \n",
       "1                0.80             0.86               5                   262   \n",
       "2                0.11             0.88               7                   272   \n",
       "3                0.72             0.87               5                   223   \n",
       "4                0.37             0.52               2                   159   \n",
       "\n",
       "   time_spend_company  Work_accident  left  promotion_last_5years Department  \\\n",
       "0                   3              0     1                      0      sales   \n",
       "1                   6              0     1                      0      sales   \n",
       "2                   4              0     1                      0      sales   \n",
       "3                   5              0     1                      0      sales   \n",
       "4                   3              0     1                      0      sales   \n",
       "\n",
       "   salary  \n",
       "0     low  \n",
       "1  medium  \n",
       "2  medium  \n",
       "3     low  \n",
       "4     low  "
      ]
     },
     "execution_count": 2,
     "metadata": {},
     "output_type": "execute_result"
    }
   ],
   "source": [
    "# Load dataset into a dataframe\n",
    "data0 = pd.read_csv(\"HR_capstone_dataset.csv\")\n",
    "\n",
    "# Display first few rows of the dataframe\n",
    "data0.head()"
   ]
  },
  {
   "cell_type": "markdown",
   "metadata": {
    "id": "wF_LLorPs5G_"
   },
   "source": [
    "## Data Cleaning\n",
    "\n",
    "- Understand the variables\n",
    "- Clean the dataset (missing data, redundant data, outliers)\n",
    "\n"
   ]
  },
  {
   "cell_type": "markdown",
   "metadata": {
    "id": "3LF6h1v9FYz2"
   },
   "source": [
    "### Gather basic information about the data"
   ]
  },
  {
   "cell_type": "code",
   "execution_count": 3,
   "metadata": {
    "id": "6XbfdPoKurMf"
   },
   "outputs": [
    {
     "name": "stdout",
     "output_type": "stream",
     "text": [
      "<class 'pandas.core.frame.DataFrame'>\n",
      "RangeIndex: 14999 entries, 0 to 14998\n",
      "Data columns (total 10 columns):\n",
      " #   Column                 Non-Null Count  Dtype  \n",
      "---  ------                 --------------  -----  \n",
      " 0   satisfaction_level     14999 non-null  float64\n",
      " 1   last_evaluation        14999 non-null  float64\n",
      " 2   number_project         14999 non-null  int64  \n",
      " 3   average_montly_hours   14999 non-null  int64  \n",
      " 4   time_spend_company     14999 non-null  int64  \n",
      " 5   Work_accident          14999 non-null  int64  \n",
      " 6   left                   14999 non-null  int64  \n",
      " 7   promotion_last_5years  14999 non-null  int64  \n",
      " 8   Department             14999 non-null  object \n",
      " 9   salary                 14999 non-null  object \n",
      "dtypes: float64(2), int64(6), object(2)\n",
      "memory usage: 1.1+ MB\n"
     ]
    }
   ],
   "source": [
    "# Gather basic information about the data\n",
    "data0.info()"
   ]
  },
  {
   "cell_type": "markdown",
   "metadata": {
    "id": "6JMl_rQ1Fgte"
   },
   "source": [
    "### Gather descriptive statistics about the data"
   ]
  },
  {
   "cell_type": "code",
   "execution_count": 4,
   "metadata": {
    "id": "_5VRL-kzE8y1"
   },
   "outputs": [
    {
     "data": {
      "text/html": [
       "<div>\n",
       "<style scoped>\n",
       "    .dataframe tbody tr th:only-of-type {\n",
       "        vertical-align: middle;\n",
       "    }\n",
       "\n",
       "    .dataframe tbody tr th {\n",
       "        vertical-align: top;\n",
       "    }\n",
       "\n",
       "    .dataframe thead th {\n",
       "        text-align: right;\n",
       "    }\n",
       "</style>\n",
       "<table border=\"1\" class=\"dataframe\">\n",
       "  <thead>\n",
       "    <tr style=\"text-align: right;\">\n",
       "      <th></th>\n",
       "      <th>satisfaction_level</th>\n",
       "      <th>last_evaluation</th>\n",
       "      <th>number_project</th>\n",
       "      <th>average_montly_hours</th>\n",
       "      <th>time_spend_company</th>\n",
       "      <th>Work_accident</th>\n",
       "      <th>left</th>\n",
       "      <th>promotion_last_5years</th>\n",
       "    </tr>\n",
       "  </thead>\n",
       "  <tbody>\n",
       "    <tr>\n",
       "      <th>count</th>\n",
       "      <td>14999.000000</td>\n",
       "      <td>14999.000000</td>\n",
       "      <td>14999.000000</td>\n",
       "      <td>14999.000000</td>\n",
       "      <td>14999.000000</td>\n",
       "      <td>14999.000000</td>\n",
       "      <td>14999.000000</td>\n",
       "      <td>14999.000000</td>\n",
       "    </tr>\n",
       "    <tr>\n",
       "      <th>mean</th>\n",
       "      <td>0.612834</td>\n",
       "      <td>0.716102</td>\n",
       "      <td>3.803054</td>\n",
       "      <td>201.050337</td>\n",
       "      <td>3.498233</td>\n",
       "      <td>0.144610</td>\n",
       "      <td>0.238083</td>\n",
       "      <td>0.021268</td>\n",
       "    </tr>\n",
       "    <tr>\n",
       "      <th>std</th>\n",
       "      <td>0.248631</td>\n",
       "      <td>0.171169</td>\n",
       "      <td>1.232592</td>\n",
       "      <td>49.943099</td>\n",
       "      <td>1.460136</td>\n",
       "      <td>0.351719</td>\n",
       "      <td>0.425924</td>\n",
       "      <td>0.144281</td>\n",
       "    </tr>\n",
       "    <tr>\n",
       "      <th>min</th>\n",
       "      <td>0.090000</td>\n",
       "      <td>0.360000</td>\n",
       "      <td>2.000000</td>\n",
       "      <td>96.000000</td>\n",
       "      <td>2.000000</td>\n",
       "      <td>0.000000</td>\n",
       "      <td>0.000000</td>\n",
       "      <td>0.000000</td>\n",
       "    </tr>\n",
       "    <tr>\n",
       "      <th>25%</th>\n",
       "      <td>0.440000</td>\n",
       "      <td>0.560000</td>\n",
       "      <td>3.000000</td>\n",
       "      <td>156.000000</td>\n",
       "      <td>3.000000</td>\n",
       "      <td>0.000000</td>\n",
       "      <td>0.000000</td>\n",
       "      <td>0.000000</td>\n",
       "    </tr>\n",
       "    <tr>\n",
       "      <th>50%</th>\n",
       "      <td>0.640000</td>\n",
       "      <td>0.720000</td>\n",
       "      <td>4.000000</td>\n",
       "      <td>200.000000</td>\n",
       "      <td>3.000000</td>\n",
       "      <td>0.000000</td>\n",
       "      <td>0.000000</td>\n",
       "      <td>0.000000</td>\n",
       "    </tr>\n",
       "    <tr>\n",
       "      <th>75%</th>\n",
       "      <td>0.820000</td>\n",
       "      <td>0.870000</td>\n",
       "      <td>5.000000</td>\n",
       "      <td>245.000000</td>\n",
       "      <td>4.000000</td>\n",
       "      <td>0.000000</td>\n",
       "      <td>0.000000</td>\n",
       "      <td>0.000000</td>\n",
       "    </tr>\n",
       "    <tr>\n",
       "      <th>max</th>\n",
       "      <td>1.000000</td>\n",
       "      <td>1.000000</td>\n",
       "      <td>7.000000</td>\n",
       "      <td>310.000000</td>\n",
       "      <td>10.000000</td>\n",
       "      <td>1.000000</td>\n",
       "      <td>1.000000</td>\n",
       "      <td>1.000000</td>\n",
       "    </tr>\n",
       "  </tbody>\n",
       "</table>\n",
       "</div>"
      ],
      "text/plain": [
       "       satisfaction_level  last_evaluation  number_project  \\\n",
       "count        14999.000000     14999.000000    14999.000000   \n",
       "mean             0.612834         0.716102        3.803054   \n",
       "std              0.248631         0.171169        1.232592   \n",
       "min              0.090000         0.360000        2.000000   \n",
       "25%              0.440000         0.560000        3.000000   \n",
       "50%              0.640000         0.720000        4.000000   \n",
       "75%              0.820000         0.870000        5.000000   \n",
       "max              1.000000         1.000000        7.000000   \n",
       "\n",
       "       average_montly_hours  time_spend_company  Work_accident          left  \\\n",
       "count          14999.000000        14999.000000   14999.000000  14999.000000   \n",
       "mean             201.050337            3.498233       0.144610      0.238083   \n",
       "std               49.943099            1.460136       0.351719      0.425924   \n",
       "min               96.000000            2.000000       0.000000      0.000000   \n",
       "25%              156.000000            3.000000       0.000000      0.000000   \n",
       "50%              200.000000            3.000000       0.000000      0.000000   \n",
       "75%              245.000000            4.000000       0.000000      0.000000   \n",
       "max              310.000000           10.000000       1.000000      1.000000   \n",
       "\n",
       "       promotion_last_5years  \n",
       "count           14999.000000  \n",
       "mean                0.021268  \n",
       "std                 0.144281  \n",
       "min                 0.000000  \n",
       "25%                 0.000000  \n",
       "50%                 0.000000  \n",
       "75%                 0.000000  \n",
       "max                 1.000000  "
      ]
     },
     "execution_count": 4,
     "metadata": {},
     "output_type": "execute_result"
    }
   ],
   "source": [
    "# Gather descriptive statistics about the data\n",
    "\n",
    "# Numeric\n",
    "data0.describe()\n"
   ]
  },
  {
   "cell_type": "code",
   "execution_count": 5,
   "metadata": {},
   "outputs": [
    {
     "data": {
      "text/plain": [
       "sales          4140\n",
       "technical      2720\n",
       "support        2229\n",
       "IT             1227\n",
       "product_mng     902\n",
       "marketing       858\n",
       "RandD           787\n",
       "accounting      767\n",
       "hr              739\n",
       "management      630\n",
       "Name: Department, dtype: int64"
      ]
     },
     "execution_count": 5,
     "metadata": {},
     "output_type": "execute_result"
    }
   ],
   "source": [
    "# Categorical: department\n",
    "data0['Department'].value_counts()"
   ]
  },
  {
   "cell_type": "code",
   "execution_count": 6,
   "metadata": {},
   "outputs": [
    {
     "data": {
      "text/plain": [
       "low       7316\n",
       "medium    6446\n",
       "high      1237\n",
       "Name: salary, dtype: int64"
      ]
     },
     "execution_count": 6,
     "metadata": {},
     "output_type": "execute_result"
    }
   ],
   "source": [
    "# Categorical: salary\n",
    "data0['salary'].value_counts()"
   ]
  },
  {
   "cell_type": "markdown",
   "metadata": {
    "id": "QR7eFNU0FklJ"
   },
   "source": [
    "### Rename columns"
   ]
  },
  {
   "cell_type": "code",
   "execution_count": 7,
   "metadata": {
    "id": "kEn21u2bqrEI"
   },
   "outputs": [
    {
     "data": {
      "text/plain": [
       "Index(['satisfaction_level', 'last_evaluation', 'number_project',\n",
       "       'average_montly_hours', 'time_spend_company', 'Work_accident', 'left',\n",
       "       'promotion_last_5years', 'Department', 'salary'],\n",
       "      dtype='object')"
      ]
     },
     "execution_count": 7,
     "metadata": {},
     "output_type": "execute_result"
    }
   ],
   "source": [
    "# Display all column names\n",
    "data0.columns"
   ]
  },
  {
   "cell_type": "code",
   "execution_count": 8,
   "metadata": {},
   "outputs": [
    {
     "data": {
      "text/html": [
       "<div>\n",
       "<style scoped>\n",
       "    .dataframe tbody tr th:only-of-type {\n",
       "        vertical-align: middle;\n",
       "    }\n",
       "\n",
       "    .dataframe tbody tr th {\n",
       "        vertical-align: top;\n",
       "    }\n",
       "\n",
       "    .dataframe thead th {\n",
       "        text-align: right;\n",
       "    }\n",
       "</style>\n",
       "<table border=\"1\" class=\"dataframe\">\n",
       "  <thead>\n",
       "    <tr style=\"text-align: right;\">\n",
       "      <th></th>\n",
       "      <th>satisfaction_level</th>\n",
       "      <th>last_evaluation</th>\n",
       "      <th>number_project</th>\n",
       "      <th>average_montly_hours</th>\n",
       "      <th>time_spend_company</th>\n",
       "      <th>work_accident</th>\n",
       "      <th>left</th>\n",
       "      <th>promotion_last_5years</th>\n",
       "      <th>department</th>\n",
       "      <th>salary</th>\n",
       "    </tr>\n",
       "  </thead>\n",
       "  <tbody>\n",
       "    <tr>\n",
       "      <th>0</th>\n",
       "      <td>0.38</td>\n",
       "      <td>0.53</td>\n",
       "      <td>2</td>\n",
       "      <td>157</td>\n",
       "      <td>3</td>\n",
       "      <td>0</td>\n",
       "      <td>1</td>\n",
       "      <td>0</td>\n",
       "      <td>sales</td>\n",
       "      <td>low</td>\n",
       "    </tr>\n",
       "    <tr>\n",
       "      <th>1</th>\n",
       "      <td>0.80</td>\n",
       "      <td>0.86</td>\n",
       "      <td>5</td>\n",
       "      <td>262</td>\n",
       "      <td>6</td>\n",
       "      <td>0</td>\n",
       "      <td>1</td>\n",
       "      <td>0</td>\n",
       "      <td>sales</td>\n",
       "      <td>medium</td>\n",
       "    </tr>\n",
       "    <tr>\n",
       "      <th>2</th>\n",
       "      <td>0.11</td>\n",
       "      <td>0.88</td>\n",
       "      <td>7</td>\n",
       "      <td>272</td>\n",
       "      <td>4</td>\n",
       "      <td>0</td>\n",
       "      <td>1</td>\n",
       "      <td>0</td>\n",
       "      <td>sales</td>\n",
       "      <td>medium</td>\n",
       "    </tr>\n",
       "    <tr>\n",
       "      <th>3</th>\n",
       "      <td>0.72</td>\n",
       "      <td>0.87</td>\n",
       "      <td>5</td>\n",
       "      <td>223</td>\n",
       "      <td>5</td>\n",
       "      <td>0</td>\n",
       "      <td>1</td>\n",
       "      <td>0</td>\n",
       "      <td>sales</td>\n",
       "      <td>low</td>\n",
       "    </tr>\n",
       "    <tr>\n",
       "      <th>4</th>\n",
       "      <td>0.37</td>\n",
       "      <td>0.52</td>\n",
       "      <td>2</td>\n",
       "      <td>159</td>\n",
       "      <td>3</td>\n",
       "      <td>0</td>\n",
       "      <td>1</td>\n",
       "      <td>0</td>\n",
       "      <td>sales</td>\n",
       "      <td>low</td>\n",
       "    </tr>\n",
       "    <tr>\n",
       "      <th>...</th>\n",
       "      <td>...</td>\n",
       "      <td>...</td>\n",
       "      <td>...</td>\n",
       "      <td>...</td>\n",
       "      <td>...</td>\n",
       "      <td>...</td>\n",
       "      <td>...</td>\n",
       "      <td>...</td>\n",
       "      <td>...</td>\n",
       "      <td>...</td>\n",
       "    </tr>\n",
       "    <tr>\n",
       "      <th>14994</th>\n",
       "      <td>0.40</td>\n",
       "      <td>0.57</td>\n",
       "      <td>2</td>\n",
       "      <td>151</td>\n",
       "      <td>3</td>\n",
       "      <td>0</td>\n",
       "      <td>1</td>\n",
       "      <td>0</td>\n",
       "      <td>support</td>\n",
       "      <td>low</td>\n",
       "    </tr>\n",
       "    <tr>\n",
       "      <th>14995</th>\n",
       "      <td>0.37</td>\n",
       "      <td>0.48</td>\n",
       "      <td>2</td>\n",
       "      <td>160</td>\n",
       "      <td>3</td>\n",
       "      <td>0</td>\n",
       "      <td>1</td>\n",
       "      <td>0</td>\n",
       "      <td>support</td>\n",
       "      <td>low</td>\n",
       "    </tr>\n",
       "    <tr>\n",
       "      <th>14996</th>\n",
       "      <td>0.37</td>\n",
       "      <td>0.53</td>\n",
       "      <td>2</td>\n",
       "      <td>143</td>\n",
       "      <td>3</td>\n",
       "      <td>0</td>\n",
       "      <td>1</td>\n",
       "      <td>0</td>\n",
       "      <td>support</td>\n",
       "      <td>low</td>\n",
       "    </tr>\n",
       "    <tr>\n",
       "      <th>14997</th>\n",
       "      <td>0.11</td>\n",
       "      <td>0.96</td>\n",
       "      <td>6</td>\n",
       "      <td>280</td>\n",
       "      <td>4</td>\n",
       "      <td>0</td>\n",
       "      <td>1</td>\n",
       "      <td>0</td>\n",
       "      <td>support</td>\n",
       "      <td>low</td>\n",
       "    </tr>\n",
       "    <tr>\n",
       "      <th>14998</th>\n",
       "      <td>0.37</td>\n",
       "      <td>0.52</td>\n",
       "      <td>2</td>\n",
       "      <td>158</td>\n",
       "      <td>3</td>\n",
       "      <td>0</td>\n",
       "      <td>1</td>\n",
       "      <td>0</td>\n",
       "      <td>support</td>\n",
       "      <td>low</td>\n",
       "    </tr>\n",
       "  </tbody>\n",
       "</table>\n",
       "<p>14999 rows × 10 columns</p>\n",
       "</div>"
      ],
      "text/plain": [
       "       satisfaction_level  last_evaluation  number_project  \\\n",
       "0                    0.38             0.53               2   \n",
       "1                    0.80             0.86               5   \n",
       "2                    0.11             0.88               7   \n",
       "3                    0.72             0.87               5   \n",
       "4                    0.37             0.52               2   \n",
       "...                   ...              ...             ...   \n",
       "14994                0.40             0.57               2   \n",
       "14995                0.37             0.48               2   \n",
       "14996                0.37             0.53               2   \n",
       "14997                0.11             0.96               6   \n",
       "14998                0.37             0.52               2   \n",
       "\n",
       "       average_montly_hours  time_spend_company  work_accident  left  \\\n",
       "0                       157                   3              0     1   \n",
       "1                       262                   6              0     1   \n",
       "2                       272                   4              0     1   \n",
       "3                       223                   5              0     1   \n",
       "4                       159                   3              0     1   \n",
       "...                     ...                 ...            ...   ...   \n",
       "14994                   151                   3              0     1   \n",
       "14995                   160                   3              0     1   \n",
       "14996                   143                   3              0     1   \n",
       "14997                   280                   4              0     1   \n",
       "14998                   158                   3              0     1   \n",
       "\n",
       "       promotion_last_5years department  salary  \n",
       "0                          0      sales     low  \n",
       "1                          0      sales  medium  \n",
       "2                          0      sales  medium  \n",
       "3                          0      sales     low  \n",
       "4                          0      sales     low  \n",
       "...                      ...        ...     ...  \n",
       "14994                      0    support     low  \n",
       "14995                      0    support     low  \n",
       "14996                      0    support     low  \n",
       "14997                      0    support     low  \n",
       "14998                      0    support     low  \n",
       "\n",
       "[14999 rows x 10 columns]"
      ]
     },
     "execution_count": 8,
     "metadata": {},
     "output_type": "execute_result"
    }
   ],
   "source": [
    "# Changing column names to lower case\n",
    "\n",
    "# Defining function\n",
    "def lowercase_column_names(df):\n",
    "  \"\"\"\n",
    "  This function iterates over a DataFrame and converts all column names to lowercase.\n",
    "\n",
    "  Args:\n",
    "      df: A pandas DataFrame.\n",
    "\n",
    "  Returns:\n",
    "      A new DataFrame with lowercase column names.\n",
    "  \"\"\"\n",
    "  # Get the existing column names\n",
    "  columns = list(df.columns)\n",
    "\n",
    "  # Convert all column names to lowercase\n",
    "  lowercase_columns = [col.lower() for col in columns]\n",
    "\n",
    "  # Rename the DataFrame columns\n",
    "  df.columns = lowercase_columns\n",
    "\n",
    "  return df\n",
    "\n",
    "# Executing function on data\n",
    "lowercase_column_names(data0)"
   ]
  },
  {
   "cell_type": "code",
   "execution_count": 9,
   "metadata": {
    "id": "npUQA8jMFJQD"
   },
   "outputs": [
    {
     "data": {
      "text/html": [
       "<div>\n",
       "<style scoped>\n",
       "    .dataframe tbody tr th:only-of-type {\n",
       "        vertical-align: middle;\n",
       "    }\n",
       "\n",
       "    .dataframe tbody tr th {\n",
       "        vertical-align: top;\n",
       "    }\n",
       "\n",
       "    .dataframe thead th {\n",
       "        text-align: right;\n",
       "    }\n",
       "</style>\n",
       "<table border=\"1\" class=\"dataframe\">\n",
       "  <thead>\n",
       "    <tr style=\"text-align: right;\">\n",
       "      <th></th>\n",
       "      <th>satisfaction</th>\n",
       "      <th>last_evaluation</th>\n",
       "      <th>number_project</th>\n",
       "      <th>avg_hours</th>\n",
       "      <th>tenure</th>\n",
       "      <th>work_accident</th>\n",
       "      <th>left</th>\n",
       "      <th>promotion</th>\n",
       "      <th>department</th>\n",
       "      <th>salary</th>\n",
       "    </tr>\n",
       "  </thead>\n",
       "  <tbody>\n",
       "    <tr>\n",
       "      <th>0</th>\n",
       "      <td>0.38</td>\n",
       "      <td>0.53</td>\n",
       "      <td>2</td>\n",
       "      <td>157</td>\n",
       "      <td>3</td>\n",
       "      <td>0</td>\n",
       "      <td>1</td>\n",
       "      <td>0</td>\n",
       "      <td>sales</td>\n",
       "      <td>low</td>\n",
       "    </tr>\n",
       "    <tr>\n",
       "      <th>1</th>\n",
       "      <td>0.80</td>\n",
       "      <td>0.86</td>\n",
       "      <td>5</td>\n",
       "      <td>262</td>\n",
       "      <td>6</td>\n",
       "      <td>0</td>\n",
       "      <td>1</td>\n",
       "      <td>0</td>\n",
       "      <td>sales</td>\n",
       "      <td>medium</td>\n",
       "    </tr>\n",
       "    <tr>\n",
       "      <th>2</th>\n",
       "      <td>0.11</td>\n",
       "      <td>0.88</td>\n",
       "      <td>7</td>\n",
       "      <td>272</td>\n",
       "      <td>4</td>\n",
       "      <td>0</td>\n",
       "      <td>1</td>\n",
       "      <td>0</td>\n",
       "      <td>sales</td>\n",
       "      <td>medium</td>\n",
       "    </tr>\n",
       "    <tr>\n",
       "      <th>3</th>\n",
       "      <td>0.72</td>\n",
       "      <td>0.87</td>\n",
       "      <td>5</td>\n",
       "      <td>223</td>\n",
       "      <td>5</td>\n",
       "      <td>0</td>\n",
       "      <td>1</td>\n",
       "      <td>0</td>\n",
       "      <td>sales</td>\n",
       "      <td>low</td>\n",
       "    </tr>\n",
       "    <tr>\n",
       "      <th>4</th>\n",
       "      <td>0.37</td>\n",
       "      <td>0.52</td>\n",
       "      <td>2</td>\n",
       "      <td>159</td>\n",
       "      <td>3</td>\n",
       "      <td>0</td>\n",
       "      <td>1</td>\n",
       "      <td>0</td>\n",
       "      <td>sales</td>\n",
       "      <td>low</td>\n",
       "    </tr>\n",
       "  </tbody>\n",
       "</table>\n",
       "</div>"
      ],
      "text/plain": [
       "   satisfaction  last_evaluation  number_project  avg_hours  tenure  \\\n",
       "0          0.38             0.53               2        157       3   \n",
       "1          0.80             0.86               5        262       6   \n",
       "2          0.11             0.88               7        272       4   \n",
       "3          0.72             0.87               5        223       5   \n",
       "4          0.37             0.52               2        159       3   \n",
       "\n",
       "   work_accident  left  promotion department  salary  \n",
       "0              0     1          0      sales     low  \n",
       "1              0     1          0      sales  medium  \n",
       "2              0     1          0      sales  medium  \n",
       "3              0     1          0      sales     low  \n",
       "4              0     1          0      sales     low  "
      ]
     },
     "execution_count": 9,
     "metadata": {},
     "output_type": "execute_result"
    }
   ],
   "source": [
    "# Rename columns as needed\n",
    "data1 = data0.rename(columns = {'satisfaction_level':'satisfaction', 'average_montly_hours':'avg_hours', \n",
    "                                'time_spend_company':'tenure', 'promotion_last_5years':'promotion'})\n",
    "\n",
    "\n",
    "# Display all column names after the update\n",
    "data1.head()\n"
   ]
  },
  {
   "cell_type": "markdown",
   "metadata": {
    "id": "e-G2QlQxBq__"
   },
   "source": [
    "### Check  for Missing Values"
   ]
  },
  {
   "cell_type": "code",
   "execution_count": 10,
   "metadata": {
    "id": "EN9MvN0GByVV"
   },
   "outputs": [
    {
     "data": {
      "text/plain": [
       "satisfaction       0\n",
       "last_evaluation    0\n",
       "number_project     0\n",
       "avg_hours          0\n",
       "tenure             0\n",
       "work_accident      0\n",
       "left               0\n",
       "promotion          0\n",
       "department         0\n",
       "salary             0\n",
       "dtype: int64"
      ]
     },
     "execution_count": 10,
     "metadata": {},
     "output_type": "execute_result"
    }
   ],
   "source": [
    "# Check for missing values\n",
    "data1.isna().sum()"
   ]
  },
  {
   "cell_type": "markdown",
   "metadata": {
    "id": "hBvrijItKQI9"
   },
   "source": [
    "### Check duplicates"
   ]
  },
  {
   "cell_type": "code",
   "execution_count": 11,
   "metadata": {
    "id": "CFFLc5AOZ7-x"
   },
   "outputs": [
    {
     "data": {
      "text/plain": [
       "3008"
      ]
     },
     "execution_count": 11,
     "metadata": {},
     "output_type": "execute_result"
    }
   ],
   "source": [
    "# Check for duplicates\n",
    "data1.duplicated().sum()\n"
   ]
  },
  {
   "cell_type": "code",
   "execution_count": 12,
   "metadata": {
    "id": "ZHGlDbKAcBLM"
   },
   "outputs": [
    {
     "data": {
      "text/html": [
       "<div>\n",
       "<style scoped>\n",
       "    .dataframe tbody tr th:only-of-type {\n",
       "        vertical-align: middle;\n",
       "    }\n",
       "\n",
       "    .dataframe tbody tr th {\n",
       "        vertical-align: top;\n",
       "    }\n",
       "\n",
       "    .dataframe thead th {\n",
       "        text-align: right;\n",
       "    }\n",
       "</style>\n",
       "<table border=\"1\" class=\"dataframe\">\n",
       "  <thead>\n",
       "    <tr style=\"text-align: right;\">\n",
       "      <th></th>\n",
       "      <th>satisfaction</th>\n",
       "      <th>last_evaluation</th>\n",
       "      <th>number_project</th>\n",
       "      <th>avg_hours</th>\n",
       "      <th>tenure</th>\n",
       "      <th>work_accident</th>\n",
       "      <th>left</th>\n",
       "      <th>promotion</th>\n",
       "      <th>department</th>\n",
       "      <th>salary</th>\n",
       "    </tr>\n",
       "  </thead>\n",
       "  <tbody>\n",
       "    <tr>\n",
       "      <th>396</th>\n",
       "      <td>0.46</td>\n",
       "      <td>0.57</td>\n",
       "      <td>2</td>\n",
       "      <td>139</td>\n",
       "      <td>3</td>\n",
       "      <td>0</td>\n",
       "      <td>1</td>\n",
       "      <td>0</td>\n",
       "      <td>sales</td>\n",
       "      <td>low</td>\n",
       "    </tr>\n",
       "    <tr>\n",
       "      <th>866</th>\n",
       "      <td>0.41</td>\n",
       "      <td>0.46</td>\n",
       "      <td>2</td>\n",
       "      <td>128</td>\n",
       "      <td>3</td>\n",
       "      <td>0</td>\n",
       "      <td>1</td>\n",
       "      <td>0</td>\n",
       "      <td>accounting</td>\n",
       "      <td>low</td>\n",
       "    </tr>\n",
       "    <tr>\n",
       "      <th>1317</th>\n",
       "      <td>0.37</td>\n",
       "      <td>0.51</td>\n",
       "      <td>2</td>\n",
       "      <td>127</td>\n",
       "      <td>3</td>\n",
       "      <td>0</td>\n",
       "      <td>1</td>\n",
       "      <td>0</td>\n",
       "      <td>sales</td>\n",
       "      <td>medium</td>\n",
       "    </tr>\n",
       "    <tr>\n",
       "      <th>1368</th>\n",
       "      <td>0.41</td>\n",
       "      <td>0.52</td>\n",
       "      <td>2</td>\n",
       "      <td>132</td>\n",
       "      <td>3</td>\n",
       "      <td>0</td>\n",
       "      <td>1</td>\n",
       "      <td>0</td>\n",
       "      <td>RandD</td>\n",
       "      <td>low</td>\n",
       "    </tr>\n",
       "    <tr>\n",
       "      <th>1461</th>\n",
       "      <td>0.42</td>\n",
       "      <td>0.53</td>\n",
       "      <td>2</td>\n",
       "      <td>142</td>\n",
       "      <td>3</td>\n",
       "      <td>0</td>\n",
       "      <td>1</td>\n",
       "      <td>0</td>\n",
       "      <td>sales</td>\n",
       "      <td>low</td>\n",
       "    </tr>\n",
       "    <tr>\n",
       "      <th>...</th>\n",
       "      <td>...</td>\n",
       "      <td>...</td>\n",
       "      <td>...</td>\n",
       "      <td>...</td>\n",
       "      <td>...</td>\n",
       "      <td>...</td>\n",
       "      <td>...</td>\n",
       "      <td>...</td>\n",
       "      <td>...</td>\n",
       "      <td>...</td>\n",
       "    </tr>\n",
       "    <tr>\n",
       "      <th>14994</th>\n",
       "      <td>0.40</td>\n",
       "      <td>0.57</td>\n",
       "      <td>2</td>\n",
       "      <td>151</td>\n",
       "      <td>3</td>\n",
       "      <td>0</td>\n",
       "      <td>1</td>\n",
       "      <td>0</td>\n",
       "      <td>support</td>\n",
       "      <td>low</td>\n",
       "    </tr>\n",
       "    <tr>\n",
       "      <th>14995</th>\n",
       "      <td>0.37</td>\n",
       "      <td>0.48</td>\n",
       "      <td>2</td>\n",
       "      <td>160</td>\n",
       "      <td>3</td>\n",
       "      <td>0</td>\n",
       "      <td>1</td>\n",
       "      <td>0</td>\n",
       "      <td>support</td>\n",
       "      <td>low</td>\n",
       "    </tr>\n",
       "    <tr>\n",
       "      <th>14996</th>\n",
       "      <td>0.37</td>\n",
       "      <td>0.53</td>\n",
       "      <td>2</td>\n",
       "      <td>143</td>\n",
       "      <td>3</td>\n",
       "      <td>0</td>\n",
       "      <td>1</td>\n",
       "      <td>0</td>\n",
       "      <td>support</td>\n",
       "      <td>low</td>\n",
       "    </tr>\n",
       "    <tr>\n",
       "      <th>14997</th>\n",
       "      <td>0.11</td>\n",
       "      <td>0.96</td>\n",
       "      <td>6</td>\n",
       "      <td>280</td>\n",
       "      <td>4</td>\n",
       "      <td>0</td>\n",
       "      <td>1</td>\n",
       "      <td>0</td>\n",
       "      <td>support</td>\n",
       "      <td>low</td>\n",
       "    </tr>\n",
       "    <tr>\n",
       "      <th>14998</th>\n",
       "      <td>0.37</td>\n",
       "      <td>0.52</td>\n",
       "      <td>2</td>\n",
       "      <td>158</td>\n",
       "      <td>3</td>\n",
       "      <td>0</td>\n",
       "      <td>1</td>\n",
       "      <td>0</td>\n",
       "      <td>support</td>\n",
       "      <td>low</td>\n",
       "    </tr>\n",
       "  </tbody>\n",
       "</table>\n",
       "<p>3008 rows × 10 columns</p>\n",
       "</div>"
      ],
      "text/plain": [
       "       satisfaction  last_evaluation  number_project  avg_hours  tenure  \\\n",
       "396            0.46             0.57               2        139       3   \n",
       "866            0.41             0.46               2        128       3   \n",
       "1317           0.37             0.51               2        127       3   \n",
       "1368           0.41             0.52               2        132       3   \n",
       "1461           0.42             0.53               2        142       3   \n",
       "...             ...              ...             ...        ...     ...   \n",
       "14994          0.40             0.57               2        151       3   \n",
       "14995          0.37             0.48               2        160       3   \n",
       "14996          0.37             0.53               2        143       3   \n",
       "14997          0.11             0.96               6        280       4   \n",
       "14998          0.37             0.52               2        158       3   \n",
       "\n",
       "       work_accident  left  promotion  department  salary  \n",
       "396                0     1          0       sales     low  \n",
       "866                0     1          0  accounting     low  \n",
       "1317               0     1          0       sales  medium  \n",
       "1368               0     1          0       RandD     low  \n",
       "1461               0     1          0       sales     low  \n",
       "...              ...   ...        ...         ...     ...  \n",
       "14994              0     1          0     support     low  \n",
       "14995              0     1          0     support     low  \n",
       "14996              0     1          0     support     low  \n",
       "14997              0     1          0     support     low  \n",
       "14998              0     1          0     support     low  \n",
       "\n",
       "[3008 rows x 10 columns]"
      ]
     },
     "execution_count": 12,
     "metadata": {},
     "output_type": "execute_result"
    }
   ],
   "source": [
    "# Inspect some rows containing duplicates as needed\n",
    "mask = data1.duplicated()\n",
    "data1[mask]\n"
   ]
  },
  {
   "cell_type": "markdown",
   "metadata": {},
   "source": [
    "Look as though the duplicate data is indeed duplicates, as it is unlikely that all information is truly indentical for over 3000 people. If this was a real world scenario, I would raise questions concerning its collection to get a better idea. For the purposes of this project, I will drop them."
   ]
  },
  {
   "cell_type": "code",
   "execution_count": 13,
   "metadata": {
    "id": "wCr34Rppdjay"
   },
   "outputs": [
    {
     "data": {
      "text/plain": [
       "(11991, 10)"
      ]
     },
     "execution_count": 13,
     "metadata": {},
     "output_type": "execute_result"
    }
   ],
   "source": [
    "# Drop duplicates and save resulting dataframe in a new variable as needed\n",
    "data2 = data1.drop_duplicates().copy()\n",
    "\n",
    "# Display first few rows of new dataframe as needed\n",
    "data2.shape"
   ]
  },
  {
   "cell_type": "markdown",
   "metadata": {
    "id": "4knHIoTIFu83"
   },
   "source": [
    "### Check for Outliers"
   ]
  },
  {
   "cell_type": "code",
   "execution_count": 14,
   "metadata": {
    "id": "pilaGYgh4LHM"
   },
   "outputs": [
    {
     "data": {
      "text/plain": [
       "<matplotlib.axes._subplots.AxesSubplot at 0x7a9329a14190>"
      ]
     },
     "execution_count": 14,
     "metadata": {},
     "output_type": "execute_result"
    },
    {
     "data": {
      "image/png": "[encoded data removed]",
      "text/plain": [
       "<Figure size 432x288 with 1 Axes>"
      ]
     },
     "metadata": {
      "needs_background": "light"
     },
     "output_type": "display_data"
    }
   ],
   "source": [
    "# Create a boxplot to visualize distribution of `tenure` and detect any outliers\n",
    "sns.boxplot(data1['tenure'])"
   ]
  },
  {
   "cell_type": "code",
   "execution_count": 15,
   "metadata": {
    "id": "ohctgiHyFykI"
   },
   "outputs": [
    {
     "name": "stdout",
     "output_type": "stream",
     "text": [
      "6     542\n",
      "10    107\n",
      "7      94\n",
      "8      81\n",
      "Name: tenure, dtype: int64\n",
      "Total count of employees with tenure >= 6 years: 824\n"
     ]
    }
   ],
   "source": [
    "# Determine the number of rows containing outliers\n",
    "mask = data2['tenure'] >= 6\n",
    "check_tenure = data2[mask]\n",
    "\n",
    "print(check_tenure['tenure'].value_counts())\n",
    "print('Total count of employees with tenure >= 6 years:', len(check_tenure))"
   ]
  },
  {
   "cell_type": "markdown",
   "metadata": {
    "id": "mA7Mz_SnI8km"
   },
   "source": [
    "## Data Exploration\n",
    "\n",
    "Now that the data is clean, I will perform EDA to better understant relationships between the variables."
   ]
  },
  {
   "cell_type": "code",
   "execution_count": 16,
   "metadata": {},
   "outputs": [
    {
     "name": "stdout",
     "output_type": "stream",
     "text": [
      "1 represents the employee has left. \n",
      "0 represents the employee is still currently with the company\n",
      " \n",
      "Count\n",
      "0    10000\n",
      "1     1991\n",
      "Name: left, dtype: int64\n",
      " \n",
      "Percentage\n",
      "0    83.4\n",
      "1    16.6\n",
      "Name: left, dtype: float64\n"
     ]
    }
   ],
   "source": [
    "# Get numbers of people who left vs. stayed\n",
    "print('1 represents the employee has left.', '\\n0 represents the employee is still currently with the company')\n",
    "print('', '\\nCount')\n",
    "print(data2['left'].value_counts())\n",
    "print('', '\\nPercentage')\n",
    "# Get percentages of people who left vs. stayed\n",
    "print(round(data2['left'].value_counts(normalize = True) * 100, 2))\n"
   ]
  },
  {
   "cell_type": "markdown",
   "metadata": {
    "id": "DmVMzXPSuYk1"
   },
   "source": [
    "### Data visualizations"
   ]
  },
  {
   "cell_type": "code",
   "execution_count": 17,
   "metadata": {
    "id": "Qf0VbjX8-DBQ"
   },
   "outputs": [
    {
     "data": {
      "text/plain": [
       "<matplotlib.axes._subplots.AxesSubplot at 0x7a93278d6090>"
      ]
     },
     "execution_count": 17,
     "metadata": {},
     "output_type": "execute_result"
    },
    {
     "data": {
      "image/png": "[encoded data removed]",
      "text/plain": [
       "<Figure size 720x576 with 2 Axes>"
      ]
     },
     "metadata": {
      "needs_background": "light"
     },
     "output_type": "display_data"
    }
   ],
   "source": [
    "# Creating a correlation matrix\n",
    "corr_matrix = data2.corr()\n",
    "plt.figure(figsize=(10, 8))\n",
    "sns.heatmap(corr_matrix,\n",
    "annot = True,\n",
    "cmap = 'icefire')"
   ]
  },
  {
   "cell_type": "code",
   "execution_count": 18,
   "metadata": {
    "id": "F8HlhjMy9X3A"
   },
   "outputs": [
    {
     "data": {
      "text/plain": [
       "Text(0, 0.5, 'Employee Count')"
      ]
     },
     "execution_count": 18,
     "metadata": {},
     "output_type": "execute_result"
    },
    {
     "data": {
      "image/png": "[encoded data removed]",
      "text/plain": [
       "<Figure size 720x360 with 1 Axes>"
      ]
     },
     "metadata": {
      "needs_background": "light"
     },
     "output_type": "display_data"
    }
   ],
   "source": [
    "# Histogram to get an understanding of tenure\n",
    "plt.figure(figsize=(10, 5))\n",
    "plt.hist(data2['tenure'])\n",
    "plt.title('Employee Count by Tenure Category')\n",
    "plt.xlabel('Years with Company')\n",
    "plt.ylabel('Employee Count')"
   ]
  },
  {
   "cell_type": "code",
   "execution_count": 19,
   "metadata": {
    "id": "NUyBruMee-EI"
   },
   "outputs": [
    {
     "data": {
      "text/plain": [
       "Text(0, 0.5, 'Satisfaction Level')"
      ]
     },
     "execution_count": 19,
     "metadata": {},
     "output_type": "execute_result"
    },
    {
     "data": {
      "image/png": "[encoded data removed]",
      "text/plain": [
       "<Figure size 720x360 with 1 Axes>"
      ]
     },
     "metadata": {
      "needs_background": "light"
     },
     "output_type": "display_data"
    }
   ],
   "source": [
    "# Bar plot to understand satisfaction per time at the company\n",
    "plt.figure(figsize=(10, 5))\n",
    "sns.barplot(data = data2, x = 'tenure', y = 'satisfaction')\n",
    "plt.title('Satisfaction Level Per Time at Company')\n",
    "plt.xlabel('Time with Company')\n",
    "plt.ylabel('Satisfaction Level')"
   ]
  },
  {
   "cell_type": "code",
   "execution_count": 20,
   "metadata": {
    "id": "3v1uJR5y3MEy"
   },
   "outputs": [
    {
     "data": {
      "text/plain": [
       "<matplotlib.axes._subplots.AxesSubplot at 0x7a932774ad10>"
      ]
     },
     "execution_count": 20,
     "metadata": {},
     "output_type": "execute_result"
    },
    {
     "data": {
      "image/png": "[encoded data removed]",
      "text/plain": [
       "<Figure size 432x288 with 1 Axes>"
      ]
     },
     "metadata": {
      "needs_background": "light"
     },
     "output_type": "display_data"
    }
   ],
   "source": [
    "# Plotting the average safisfaction of people who left and stayed\n",
    "sns.barplot(data = data2, x = 'left', y = 'satisfaction')\n"
   ]
  },
  {
   "cell_type": "code",
   "execution_count": 21,
   "metadata": {
    "id": "UCVs81NILbhn"
   },
   "outputs": [
    {
     "data": {
      "text/plain": [
       "Text(0, 0.5, 'Satisfaction Level')"
      ]
     },
     "execution_count": 21,
     "metadata": {},
     "output_type": "execute_result"
    },
    {
     "data": {
      "image/png": "[encoded data removed]",
      "text/plain": [
       "<Figure size 720x360 with 1 Axes>"
      ]
     },
     "metadata": {
      "needs_background": "light"
     },
     "output_type": "display_data"
    }
   ],
   "source": [
    "# Create barplot to see how number of projects effects satisfaction\n",
    "plt.figure(figsize=(10, 5))\n",
    "sns.barplot(data=data2, x='number_project', y='satisfaction')\n",
    "plt.xlabel('Number of Projects')\n",
    "plt.ylabel('Satisfaction Level')"
   ]
  },
  {
   "cell_type": "code",
   "execution_count": 22,
   "metadata": {
    "id": "cGitCvzvdbjF"
   },
   "outputs": [
    {
     "data": {
      "text/plain": [
       "Text(0, 0.5, 'Satisfaction Level')"
      ]
     },
     "execution_count": 22,
     "metadata": {},
     "output_type": "execute_result"
    },
    {
     "data": {
      "image/png": "[encoded data removed]",
      "text/plain": [
       "<Figure size 720x360 with 1 Axes>"
      ]
     },
     "metadata": {
      "needs_background": "light"
     },
     "output_type": "display_data"
    }
   ],
   "source": [
    "# Seeing how work accidents effect satisfaction\n",
    "plt.figure(figsize=(10, 5))\n",
    "sns.barplot(data=data2, x='work_accident', y='satisfaction')\n",
    "plt.xlabel('0 = No accident, 1 = Accident')\n",
    "plt.ylabel('Satisfaction Level')"
   ]
  },
  {
   "cell_type": "code",
   "execution_count": 23,
   "metadata": {
    "id": "6TyBo1uxsSpc"
   },
   "outputs": [
    {
     "data": {
      "text/plain": [
       "<matplotlib.axes._subplots.AxesSubplot at 0x7a93275f4150>"
      ]
     },
     "execution_count": 23,
     "metadata": {},
     "output_type": "execute_result"
    },
    {
     "data": {
      "image/png": "[encoded data removed]",
      "text/plain": [
       "<Figure size 432x288 with 1 Axes>"
      ]
     },
     "metadata": {
      "needs_background": "light"
     },
     "output_type": "display_data"
    }
   ],
   "source": [
    "# How does salary effect satisfaction?\n",
    "sns.barplot(data=data2, x='salary', y='satisfaction')\n"
   ]
  },
  {
   "cell_type": "code",
   "execution_count": 24,
   "metadata": {},
   "outputs": [],
   "source": [
    "data2['hour_cat'] = pd.qcut(data2['avg_hours'],\n",
    "                           6,\n",
    "                           labels = ['96-133', '133-170', '170-208', '208-245', '245-282', '282-310'])"
   ]
  },
  {
   "cell_type": "code",
   "execution_count": 25,
   "metadata": {},
   "outputs": [
    {
     "data": {
      "text/plain": [
       "Text(0, 0.5, 'Satisfaction Level')"
      ]
     },
     "execution_count": 25,
     "metadata": {},
     "output_type": "execute_result"
    },
    {
     "data": {
      "image/png": "[encoded data removed]",
      "text/plain": [
       "<Figure size 720x360 with 1 Axes>"
      ]
     },
     "metadata": {
      "needs_background": "light"
     },
     "output_type": "display_data"
    }
   ],
   "source": [
    "# Plotting satisfaction by average hours worked\n",
    "plt.figure(figsize=(10, 5))\n",
    "sns.barplot(data=data2, x='hour_cat', y='satisfaction')\n",
    "plt.title('Satisfaction by Avg. Monthly Hours Worked')\n",
    "plt.xlabel('Avg. Monthly Hours')\n",
    "plt.ylabel('Satisfaction Level')"
   ]
  },
  {
   "cell_type": "code",
   "execution_count": 26,
   "metadata": {},
   "outputs": [
    {
     "data": {
      "text/plain": [
       "Text(0, 0.5, 'Avg. Monthly Hours Worked')"
      ]
     },
     "execution_count": 26,
     "metadata": {},
     "output_type": "execute_result"
    },
    {
     "data": {
      "image/png": "[encoded data removed]",
      "text/plain": [
       "<Figure size 720x360 with 1 Axes>"
      ]
     },
     "metadata": {
      "needs_background": "light"
     },
     "output_type": "display_data"
    }
   ],
   "source": [
    "plt.figure(figsize=(10, 5))\n",
    "sns.barplot(data=data2, x='number_project', y='avg_hours')\n",
    "plt.title('Hours Worked for Number of Porjects')\n",
    "plt.xlabel('Number of Projects')\n",
    "plt.ylabel('Avg. Monthly Hours Worked')"
   ]
  },
  {
   "cell_type": "markdown",
   "metadata": {
    "id": "DeTmNVlAANLd"
   },
   "source": [
    "### Insights"
   ]
  },
  {
   "cell_type": "markdown",
   "metadata": {
    "id": "sQT8YqymD-yL"
   },
   "source": [
    "When exploring the data, that largest contributor to someone leaving is satisfaction. This may seem obvious, but what affects an employees satisfaction? Here is what I found during the highlevel EDA:\n",
    "- Between year 4-5 with the company, satisfaction drops dramatically\n",
    "- Satisfaction is at its highest (65-75%) when an employee has between 3-5 projects; however it drops dramatically (30%) when an employee has 6 projects, and even more (10%) when they are a part of 7 projects.\n",
    "- Average monthly hours is obviously correlated to number of projects, but does not have as much of an affect on satisfaction as ones number of projects. However, the more projects one has the more hours they work and the less satisfied they are with their job.\n",
    "- Things like salary, and work accidents typically do not effect an employees satisfaction level\n",
    "\n",
    "#### Main Take-aways\n",
    "\n",
    "It seems the largest contributor to an employee leaving the company is satisfaction.\n",
    "\n",
    "The variable that seems to effect satisfaction the most, is workload. When an employee has above 3-5 projects, their satisfaction level drops dramatically.\n",
    "\n",
    "Improving workload for employees, and ensuring they are not above a certain threshold can help to keep satisfaction and morale higher; directly effecting the likelyhood that they will leave the company."
   ]
  },
  {
   "cell_type": "markdown",
   "metadata": {
    "id": "moS7voiMOW67"
   },
   "source": [
    "## Model Creation\n",
    "\n",
    "### Ethical Considerations\n",
    "Not being able to predict an employees liklihood of leaving, means we will not be able to improve the job and lives of employees who are overworked and unhappy. When the model predicts someone might leave, it is likely steps will be taken to help improve that employees situation. That being said, ethically it is important to correctly identify unhappy employees. So I will be focusing on the recall score, to ensure that positive predictions are made often, and accurately."
   ]
  },
  {
   "cell_type": "markdown",
   "metadata": {
    "id": "QxCXjdpSaB8A"
   },
   "source": [
    "### Type of Prediction Task"
   ]
  },
  {
   "cell_type": "markdown",
   "metadata": {
    "id": "YcCoHhnKcEov"
   },
   "source": [
    "The goal is to build a model to predict if an employee is likely to leave. I will do this by training a classifier model to be able to predict if an employee's situation is similar to that of those to left the company; which will allow to company to focus on improving the employee's situation therefore improving the turnover rate."
   ]
  },
  {
   "cell_type": "markdown",
   "metadata": {
    "id": "yeUlo3W0ais-"
   },
   "source": [
    "### Model Type"
   ]
  },
  {
   "cell_type": "markdown",
   "metadata": {
    "id": "A0Mo6f9tOchC"
   },
   "source": [
    "I will be constructing an random forest model, a supervised ensemble of decision trees to be able to get the most accurate predictions."
   ]
  },
  {
   "cell_type": "markdown",
   "metadata": {
    "id": "OrW2oXy4OfD1"
   },
   "source": [
    "### Modeling\n",
    "\n",
    "Add as many cells as you need to conduct the modeling process."
   ]
  },
  {
   "cell_type": "code",
   "execution_count": 27,
   "metadata": {},
   "outputs": [
    {
     "name": "stdout",
     "output_type": "stream",
     "text": [
      "Collecting imbalanced-learn\n",
      "  Downloading imbalanced_learn-0.12.2-py3-none-any.whl (257 kB)\n",
      "     |████████████████████████████████| 257 kB 66.0 MB/s            \n",
      "\u001b[?25hRequirement already satisfied: scipy>=1.5.0 in /opt/conda/lib/python3.7/site-packages (from imbalanced-learn) (1.6.0)\n",
      "Collecting threadpoolctl>=2.0.0\n",
      "  Downloading threadpoolctl-3.1.0-py3-none-any.whl (14 kB)\n",
      "Collecting scikit-learn>=1.0.2\n",
      "  Downloading scikit_learn-1.0.2-cp37-cp37m-manylinux_2_17_x86_64.manylinux2014_x86_64.whl (24.8 MB)\n",
      "     |████████████████████████████████| 24.8 MB 104.5 MB/s            \n",
      "\u001b[?25hRequirement already satisfied: numpy>=1.17.3 in /opt/conda/lib/python3.7/site-packages (from imbalanced-learn) (1.18.4)\n",
      "Collecting joblib>=1.1.1\n",
      "  Downloading joblib-1.3.2-py3-none-any.whl (302 kB)\n",
      "     |████████████████████████████████| 302 kB 94.4 MB/s            \n",
      "\u001b[?25hInstalling collected packages: threadpoolctl, joblib, scikit-learn, imbalanced-learn\n",
      "  Attempting uninstall: joblib\n",
      "    Found existing installation: joblib 0.14.1\n",
      "    Uninstalling joblib-0.14.1:\n",
      "      Successfully uninstalled joblib-0.14.1\n",
      "  Attempting uninstall: scikit-learn\n",
      "    Found existing installation: scikit-learn 0.22.2.post1\n",
      "    Uninstalling scikit-learn-0.22.2.post1:\n",
      "      Successfully uninstalled scikit-learn-0.22.2.post1\n",
      "Successfully installed imbalanced-learn-0.12.2 joblib-1.3.2 scikit-learn-1.0.2 threadpoolctl-3.1.0\n",
      "\u001b[33mWARNING: You are using pip version 21.3.1; however, version 24.0 is available.\n",
      "You should consider upgrading via the '/opt/conda/bin/python3 -m pip install --upgrade pip' command.\u001b[0m\n"
     ]
    }
   ],
   "source": [
    "!pip install imbalanced-learn"
   ]
  },
  {
   "cell_type": "code",
   "execution_count": 35,
   "metadata": {
    "id": "UePZZyi_Okdz"
   },
   "outputs": [],
   "source": [
    "# Importing revelevant modeling packages\n",
    "# Model Construction\n",
    "from sklearn.ensemble import RandomForestClassifier\n",
    "from sklearn.model_selection import GridSearchCV, train_test_split\n",
    "from imblearn.over_sampling import SMOTE\n",
    "\n",
    "# Evaluation\n",
    "from sklearn.metrics import accuracy_score, precision_score, recall_score,\\\n",
    "f1_score, confusion_matrix, ConfusionMatrixDisplay, RocCurveDisplay\n",
    "\n",
    "# To save the model\n",
    "import pickle"
   ]
  },
  {
   "cell_type": "code",
   "execution_count": 29,
   "metadata": {},
   "outputs": [],
   "source": [
    "# Defining functions for use in model creation\n",
    "\n",
    "# Create make_results function\n",
    "def make_results(model_name, model_object):\n",
    "    '''\n",
    "    Accepts as arguments a model name (your choice - string) and\n",
    "    a fit GridSearchCV model object.\n",
    "  \n",
    "    Returns a pandas df with the F1, recall, precision, and accuracy scores\n",
    "    for the model with the best mean F1 score across all validation folds.  \n",
    "    '''\n",
    "\n",
    "    # Get all the results from the CV and put them in a df\n",
    "    cv_results = pd.DataFrame(model_object.cv_results_)\n",
    "\n",
    "    # Isolate the row of the df with the max(mean f1 score)\n",
    "    best_estimator_results = cv_results.iloc[cv_results['mean_test_f1'].idxmax(), :]\n",
    "\n",
    "    # Extract accuracy, precision, recall, and f1 score from that row\n",
    "    f1 = best_estimator_results.mean_test_f1\n",
    "    recall = best_estimator_results.mean_test_recall\n",
    "    precision = best_estimator_results.mean_test_precision\n",
    "    accuracy = best_estimator_results.mean_test_accuracy\n",
    "  \n",
    "    # Create table of results\n",
    "    table = pd.DataFrame({'Model': [model_name],\n",
    "                          'F1': [f1],\n",
    "                          'Recall': [recall],\n",
    "                          'Precision': [precision],\n",
    "                          'Accuracy': [accuracy]\n",
    "                         }\n",
    "                        )\n",
    "  \n",
    "    return table\n",
    "\n",
    "# Create helper function to plot confusion matrix\n",
    "def conf_matrix_plot(model, x_data, y_data):\n",
    "    '''\n",
    "    Accepts as argument model object, X data (test or validate), and y data (test or validate). \n",
    "    Returns a plot of confusion matrix for predictions on y data.\n",
    "    ''' \n",
    "    model_pred = model.predict(x_data)\n",
    "    cm = confusion_matrix(y_data, model_pred, labels=model.classes_)\n",
    "    disp = ConfusionMatrixDisplay(confusion_matrix=cm,\n",
    "                             display_labels=model.classes_)\n",
    "  \n",
    "    disp.plot()\n",
    "    plt.show()"
   ]
  },
  {
   "cell_type": "markdown",
   "metadata": {},
   "source": [
    "### Feature Engineering\n",
    "\n",
    "Before anything, I will start with feature engineering. Setting up the features to perform at their best within the model."
   ]
  },
  {
   "cell_type": "code",
   "execution_count": 30,
   "metadata": {},
   "outputs": [
    {
     "name": "stdout",
     "output_type": "stream",
     "text": [
      "<class 'pandas.core.frame.DataFrame'>\n",
      "Int64Index: 11991 entries, 0 to 11999\n",
      "Data columns (total 11 columns):\n",
      " #   Column           Non-Null Count  Dtype   \n",
      "---  ------           --------------  -----   \n",
      " 0   satisfaction     11991 non-null  float64 \n",
      " 1   last_evaluation  11991 non-null  float64 \n",
      " 2   number_project   11991 non-null  int64   \n",
      " 3   avg_hours        11991 non-null  int64   \n",
      " 4   tenure           11991 non-null  int64   \n",
      " 5   work_accident    11991 non-null  int64   \n",
      " 6   left             11991 non-null  int64   \n",
      " 7   promotion        11991 non-null  int64   \n",
      " 8   department       11991 non-null  object  \n",
      " 9   salary           11991 non-null  object  \n",
      " 10  hour_cat         11991 non-null  category\n",
      "dtypes: category(1), float64(2), int64(6), object(2)\n",
      "memory usage: 1.3+ MB\n"
     ]
    }
   ],
   "source": [
    "# Start by examining columns and dtypes\n",
    "data2.info()"
   ]
  },
  {
   "cell_type": "code",
   "execution_count": 127,
   "metadata": {},
   "outputs": [],
   "source": [
    "# Drop hour cat column\n",
    "data3 = data2.drop('hour_cat', axis = 1).copy()"
   ]
  },
  {
   "cell_type": "code",
   "execution_count": 120,
   "metadata": {},
   "outputs": [
    {
     "data": {
      "text/plain": [
       "0    0.833959\n",
       "1    0.166041\n",
       "Name: left, dtype: float64"
      ]
     },
     "execution_count": 120,
     "metadata": {},
     "output_type": "execute_result"
    }
   ],
   "source": [
    "# Review class imbalance\n",
    "data3['left'].value_counts(normalize=True)"
   ]
  },
  {
   "cell_type": "code",
   "execution_count": 129,
   "metadata": {},
   "outputs": [],
   "source": [
    "# Seperate features into predictor and target variables (x and y)\n",
    "\n",
    "# Encode variables\n",
    "data4 = pd.get_dummies(data3)\n",
    "\n",
    "# Define X variables\n",
    "X = data4.copy()\n",
    "X = X.drop('left', axis=1)\n",
    "\n",
    "# Define y feature\n",
    "y = data4['left']\n",
    "\n",
    "# Create SMOTE object\n",
    "smote = SMOTE(random_state = 0)\n",
    "\n",
    "# Correct class imbalance\n",
    "X_resampled, y_resampled = smote.fit_resample(X, y)"
   ]
  },
  {
   "cell_type": "code",
   "execution_count": 130,
   "metadata": {},
   "outputs": [
    {
     "data": {
      "text/html": [
       "<div>\n",
       "<style scoped>\n",
       "    .dataframe tbody tr th:only-of-type {\n",
       "        vertical-align: middle;\n",
       "    }\n",
       "\n",
       "    .dataframe tbody tr th {\n",
       "        vertical-align: top;\n",
       "    }\n",
       "\n",
       "    .dataframe thead th {\n",
       "        text-align: right;\n",
       "    }\n",
       "</style>\n",
       "<table border=\"1\" class=\"dataframe\">\n",
       "  <thead>\n",
       "    <tr style=\"text-align: right;\">\n",
       "      <th></th>\n",
       "      <th>satisfaction</th>\n",
       "      <th>last_evaluation</th>\n",
       "      <th>number_project</th>\n",
       "      <th>avg_hours</th>\n",
       "      <th>tenure</th>\n",
       "      <th>work_accident</th>\n",
       "      <th>promotion</th>\n",
       "      <th>department_IT</th>\n",
       "      <th>department_RandD</th>\n",
       "      <th>department_accounting</th>\n",
       "      <th>department_hr</th>\n",
       "      <th>department_management</th>\n",
       "      <th>department_marketing</th>\n",
       "      <th>department_product_mng</th>\n",
       "      <th>department_sales</th>\n",
       "      <th>department_support</th>\n",
       "      <th>department_technical</th>\n",
       "      <th>salary_high</th>\n",
       "      <th>salary_low</th>\n",
       "      <th>salary_medium</th>\n",
       "    </tr>\n",
       "  </thead>\n",
       "  <tbody>\n",
       "    <tr>\n",
       "      <th>0</th>\n",
       "      <td>0.38</td>\n",
       "      <td>0.53</td>\n",
       "      <td>2</td>\n",
       "      <td>157</td>\n",
       "      <td>3</td>\n",
       "      <td>0</td>\n",
       "      <td>0</td>\n",
       "      <td>0</td>\n",
       "      <td>0</td>\n",
       "      <td>0</td>\n",
       "      <td>0</td>\n",
       "      <td>0</td>\n",
       "      <td>0</td>\n",
       "      <td>0</td>\n",
       "      <td>1</td>\n",
       "      <td>0</td>\n",
       "      <td>0</td>\n",
       "      <td>0</td>\n",
       "      <td>1</td>\n",
       "      <td>0</td>\n",
       "    </tr>\n",
       "    <tr>\n",
       "      <th>1</th>\n",
       "      <td>0.80</td>\n",
       "      <td>0.86</td>\n",
       "      <td>5</td>\n",
       "      <td>262</td>\n",
       "      <td>6</td>\n",
       "      <td>0</td>\n",
       "      <td>0</td>\n",
       "      <td>0</td>\n",
       "      <td>0</td>\n",
       "      <td>0</td>\n",
       "      <td>0</td>\n",
       "      <td>0</td>\n",
       "      <td>0</td>\n",
       "      <td>0</td>\n",
       "      <td>1</td>\n",
       "      <td>0</td>\n",
       "      <td>0</td>\n",
       "      <td>0</td>\n",
       "      <td>0</td>\n",
       "      <td>1</td>\n",
       "    </tr>\n",
       "    <tr>\n",
       "      <th>2</th>\n",
       "      <td>0.11</td>\n",
       "      <td>0.88</td>\n",
       "      <td>7</td>\n",
       "      <td>272</td>\n",
       "      <td>4</td>\n",
       "      <td>0</td>\n",
       "      <td>0</td>\n",
       "      <td>0</td>\n",
       "      <td>0</td>\n",
       "      <td>0</td>\n",
       "      <td>0</td>\n",
       "      <td>0</td>\n",
       "      <td>0</td>\n",
       "      <td>0</td>\n",
       "      <td>1</td>\n",
       "      <td>0</td>\n",
       "      <td>0</td>\n",
       "      <td>0</td>\n",
       "      <td>0</td>\n",
       "      <td>1</td>\n",
       "    </tr>\n",
       "    <tr>\n",
       "      <th>3</th>\n",
       "      <td>0.72</td>\n",
       "      <td>0.87</td>\n",
       "      <td>5</td>\n",
       "      <td>223</td>\n",
       "      <td>5</td>\n",
       "      <td>0</td>\n",
       "      <td>0</td>\n",
       "      <td>0</td>\n",
       "      <td>0</td>\n",
       "      <td>0</td>\n",
       "      <td>0</td>\n",
       "      <td>0</td>\n",
       "      <td>0</td>\n",
       "      <td>0</td>\n",
       "      <td>1</td>\n",
       "      <td>0</td>\n",
       "      <td>0</td>\n",
       "      <td>0</td>\n",
       "      <td>1</td>\n",
       "      <td>0</td>\n",
       "    </tr>\n",
       "    <tr>\n",
       "      <th>4</th>\n",
       "      <td>0.37</td>\n",
       "      <td>0.52</td>\n",
       "      <td>2</td>\n",
       "      <td>159</td>\n",
       "      <td>3</td>\n",
       "      <td>0</td>\n",
       "      <td>0</td>\n",
       "      <td>0</td>\n",
       "      <td>0</td>\n",
       "      <td>0</td>\n",
       "      <td>0</td>\n",
       "      <td>0</td>\n",
       "      <td>0</td>\n",
       "      <td>0</td>\n",
       "      <td>1</td>\n",
       "      <td>0</td>\n",
       "      <td>0</td>\n",
       "      <td>0</td>\n",
       "      <td>1</td>\n",
       "      <td>0</td>\n",
       "    </tr>\n",
       "  </tbody>\n",
       "</table>\n",
       "</div>"
      ],
      "text/plain": [
       "   satisfaction  last_evaluation  number_project  avg_hours  tenure  \\\n",
       "0          0.38             0.53               2        157       3   \n",
       "1          0.80             0.86               5        262       6   \n",
       "2          0.11             0.88               7        272       4   \n",
       "3          0.72             0.87               5        223       5   \n",
       "4          0.37             0.52               2        159       3   \n",
       "\n",
       "   work_accident  promotion  department_IT  department_RandD  \\\n",
       "0              0          0              0                 0   \n",
       "1              0          0              0                 0   \n",
       "2              0          0              0                 0   \n",
       "3              0          0              0                 0   \n",
       "4              0          0              0                 0   \n",
       "\n",
       "   department_accounting  department_hr  department_management  \\\n",
       "0                      0              0                      0   \n",
       "1                      0              0                      0   \n",
       "2                      0              0                      0   \n",
       "3                      0              0                      0   \n",
       "4                      0              0                      0   \n",
       "\n",
       "   department_marketing  department_product_mng  department_sales  \\\n",
       "0                     0                       0                 1   \n",
       "1                     0                       0                 1   \n",
       "2                     0                       0                 1   \n",
       "3                     0                       0                 1   \n",
       "4                     0                       0                 1   \n",
       "\n",
       "   department_support  department_technical  salary_high  salary_low  \\\n",
       "0                   0                     0            0           1   \n",
       "1                   0                     0            0           0   \n",
       "2                   0                     0            0           0   \n",
       "3                   0                     0            0           1   \n",
       "4                   0                     0            0           1   \n",
       "\n",
       "   salary_medium  \n",
       "0              0  \n",
       "1              1  \n",
       "2              1  \n",
       "3              0  \n",
       "4              0  "
      ]
     },
     "execution_count": 130,
     "metadata": {},
     "output_type": "execute_result"
    }
   ],
   "source": [
    "# Verify x samples\n",
    "\n",
    "# Reviewing columns\n",
    "X_resampled.head()"
   ]
  },
  {
   "cell_type": "code",
   "execution_count": 38,
   "metadata": {},
   "outputs": [
    {
     "data": {
      "text/plain": [
       "(20000, 26)"
      ]
     },
     "execution_count": 38,
     "metadata": {},
     "output_type": "execute_result"
    }
   ],
   "source": [
    "# Checking shape\n",
    "X_resampled.shape"
   ]
  },
  {
   "cell_type": "code",
   "execution_count": 39,
   "metadata": {},
   "outputs": [
    {
     "name": "stdout",
     "output_type": "stream",
     "text": [
      "1    50.0\n",
      "0    50.0\n",
      "Name: left, dtype: float64\n",
      "(20000,)\n"
     ]
    }
   ],
   "source": [
    "# Verify y samples\n",
    "print(y_resampled.value_counts(normalize = True) * 100)\n",
    "print(y_resampled.shape)"
   ]
  },
  {
   "cell_type": "code",
   "execution_count": 40,
   "metadata": {},
   "outputs": [],
   "source": [
    "# Split data into train, test, and validation data\n",
    "X_train, X_test, y_train, y_test = train_test_split(X_resampled, y_resampled, random_state = 42)"
   ]
  },
  {
   "cell_type": "markdown",
   "metadata": {},
   "source": [
    "That completes the feature engineering. I have cleaned the features, encoded, and oversampled to correct the class imbalance. Now I will begin the model construction."
   ]
  },
  {
   "cell_type": "markdown",
   "metadata": {},
   "source": [
    "### Model Construction"
   ]
  },
  {
   "cell_type": "code",
   "execution_count": 92,
   "metadata": {},
   "outputs": [],
   "source": [
    "# Instantiate the model, GridSearch, and parameters/scoring objects\n",
    "\n",
    "# Create parameters for GS\n",
    "cv_params = {\n",
    "  'n_estimators': [100, 200, 300],\n",
    "  'max_depth': [3, 5, 8]\n",
    "}\n",
    "\n",
    "# Create scoring metrics\n",
    "scoring = {'precision', 'recall', 'f1', 'accuracy'}\n",
    "\n",
    "# Instantiate the model\n",
    "rf = RandomForestClassifier(random_state = 0)\n",
    "\n",
    "# Instantiate grid search\n",
    "rf_cv = GridSearchCV(rf, cv_params, scoring = scoring, cv = 5, refit = 'recall')"
   ]
  },
  {
   "cell_type": "code",
   "execution_count": 94,
   "metadata": {},
   "outputs": [
    {
     "name": "stdout",
     "output_type": "stream",
     "text": [
      "CPU times: user 44.1 s, sys: 74.3 ms, total: 44.1 s\n",
      "Wall time: 44.1 s\n"
     ]
    },
    {
     "data": {
      "text/plain": [
       "GridSearchCV(cv=5, estimator=RandomForestClassifier(random_state=0),\n",
       "             param_grid={'max_depth': [3, 5, 8],\n",
       "                         'n_estimators': [100, 200, 300]},\n",
       "             refit='recall', scoring={'precision', 'f1', 'accuracy', 'recall'})"
      ]
     },
     "execution_count": 94,
     "metadata": {},
     "output_type": "execute_result"
    }
   ],
   "source": [
    "%%time\n",
    "\n",
    "# Fit the model\n",
    "# rf_cv.fit(X_train, y_train)"
   ]
  },
  {
   "cell_type": "code",
   "execution_count": 95,
   "metadata": {},
   "outputs": [
    {
     "data": {
      "text/plain": [
       "{'max_depth': 8, 'n_estimators': 100}"
      ]
     },
     "execution_count": 95,
     "metadata": {},
     "output_type": "execute_result"
    }
   ],
   "source": [
    "# Examine the best hyperparameters\n",
    "rf_cv.best_params_"
   ]
  },
  {
   "cell_type": "code",
   "execution_count": 97,
   "metadata": {},
   "outputs": [],
   "source": [
    "# Create dict with best parameters\n",
    "best_params = {\n",
    "  'n_estimators': [8],\n",
    "  'max_depth': [100]\n",
    "}\n",
    "\n",
    "# Instantiate model with best parameters\n",
    "rf_opt = rf_cv = GridSearchCV(rf, best_params, scoring = scoring, cv = 5, refit = 'recall')\n"
   ]
  },
  {
   "cell_type": "code",
   "execution_count": 98,
   "metadata": {},
   "outputs": [
    {
     "data": {
      "text/plain": [
       "GridSearchCV(cv=5, estimator=RandomForestClassifier(random_state=0),\n",
       "             param_grid={'max_depth': [100], 'n_estimators': [8]},\n",
       "             refit='recall', scoring={'precision', 'f1', 'accuracy', 'recall'})"
      ]
     },
     "execution_count": 98,
     "metadata": {},
     "output_type": "execute_result"
    }
   ],
   "source": [
    "# Fit the model\n",
    "# rf_opt.fit(X_train, y_train)"
   ]
  },
  {
   "cell_type": "code",
   "execution_count": 99,
   "metadata": {},
   "outputs": [],
   "source": [
    "# Pickle the model\n",
    "\n",
    "# Importing directory package\n",
    "import os\n",
    "\n",
    "# Define file name\n",
    "model_filename = 'capstone_rf_model.pkl'\n",
    "\n",
    "# Get notebook directory\n",
    "current_dir = os.getcwd()\n",
    "\n",
    "# Create the path to the model file\n",
    "model_path = os.path.join(current_dir, model_filename)\n",
    "\n",
    "# Pickle the model\n",
    "with open(model_path, 'wb') as f:\n",
    "    pickle.dump(rf_opt, f)"
   ]
  },
  {
   "cell_type": "code",
   "execution_count": 100,
   "metadata": {},
   "outputs": [],
   "source": [
    "# Read back in pickled model\n",
    "with open(model_path, 'rb') as f:\n",
    "    # Load model back into a variable\n",
    "    model = pickle.load(f)\n",
    "\n",
    "# Since model is pickled I commented out fitting the model"
   ]
  },
  {
   "cell_type": "code",
   "execution_count": 101,
   "metadata": {},
   "outputs": [
    {
     "data": {
      "text/plain": [
       "0.9519372631129983"
      ]
     },
     "execution_count": 101,
     "metadata": {},
     "output_type": "execute_result"
    }
   ],
   "source": [
    "# Examine best score (f1 as defined in prefit=)\n",
    "rf_opt.best_score_"
   ]
  },
  {
   "cell_type": "code",
   "execution_count": 102,
   "metadata": {},
   "outputs": [
    {
     "data": {
      "text/html": [
       "<div>\n",
       "<style scoped>\n",
       "    .dataframe tbody tr th:only-of-type {\n",
       "        vertical-align: middle;\n",
       "    }\n",
       "\n",
       "    .dataframe tbody tr th {\n",
       "        vertical-align: top;\n",
       "    }\n",
       "\n",
       "    .dataframe thead th {\n",
       "        text-align: right;\n",
       "    }\n",
       "</style>\n",
       "<table border=\"1\" class=\"dataframe\">\n",
       "  <thead>\n",
       "    <tr style=\"text-align: right;\">\n",
       "      <th></th>\n",
       "      <th>Model</th>\n",
       "      <th>F1</th>\n",
       "      <th>Recall</th>\n",
       "      <th>Precision</th>\n",
       "      <th>Accuracy</th>\n",
       "    </tr>\n",
       "  </thead>\n",
       "  <tbody>\n",
       "    <tr>\n",
       "      <th>0</th>\n",
       "      <td>RandomForest CV</td>\n",
       "      <td>0.969436</td>\n",
       "      <td>0.951937</td>\n",
       "      <td>0.987616</td>\n",
       "      <td>0.969867</td>\n",
       "    </tr>\n",
       "  </tbody>\n",
       "</table>\n",
       "</div>"
      ],
      "text/plain": [
       "             Model        F1    Recall  Precision  Accuracy\n",
       "0  RandomForest CV  0.969436  0.951937   0.987616  0.969867"
      ]
     },
     "execution_count": 102,
     "metadata": {},
     "output_type": "execute_result"
    }
   ],
   "source": [
    "# Create a table with model results, using predefined function\n",
    "rf_results = make_results('RandomForest CV', rf_opt)\n",
    "\n",
    "# Viewing the results\n",
    "rf_results"
   ]
  },
  {
   "cell_type": "code",
   "execution_count": 107,
   "metadata": {},
   "outputs": [
    {
     "name": "stdout",
     "output_type": "stream",
     "text": [
      "F1 score final RF model:  96.42\n",
      "Recall score final RF model:  94.33\n",
      "Precision score final RF model:  98.6\n",
      "Accuracy score final RF model:  96.54\n"
     ]
    }
   ],
   "source": [
    "# Predict on test data\n",
    "rf_cv_preds = rf_opt.predict(X_test)\n",
    "\n",
    "# Print the evaluation metrics for prediction performance\n",
    "print('F1 score final RF model: ', round(f1_score(y_test, rf_cv_preds) *100, 2))\n",
    "print('Recall score final RF model: ', round(recall_score(y_test, rf_cv_preds) * 100, 2))\n",
    "print('Precision score final RF model: ', round(precision_score(y_test, rf_cv_preds) * 100, 2))\n",
    "print('Accuracy score final RF model: ', round(accuracy_score(y_test, rf_cv_preds) * 100, 2))"
   ]
  },
  {
   "cell_type": "code",
   "execution_count": 106,
   "metadata": {},
   "outputs": [
    {
     "data": {
      "image/png": "[encoded data removed]",
      "text/plain": [
       "<Figure size 432x288 with 2 Axes>"
      ]
     },
     "metadata": {
      "needs_background": "light"
     },
     "output_type": "display_data"
    }
   ],
   "source": [
    "# Create a confusion matrix using predefined function\n",
    "conf_matrix_plot(rf_opt, X_test, y_test)"
   ]
  },
  {
   "cell_type": "code",
   "execution_count": 109,
   "metadata": {},
   "outputs": [
    {
     "data": {
      "text/plain": [
       "RandomForestClassifier(max_depth=100, n_estimators=8, random_state=0)"
      ]
     },
     "execution_count": 109,
     "metadata": {},
     "output_type": "execute_result"
    }
   ],
   "source": [
    "# Fit final model now that I have gotten the evaluation metrics\n",
    "rf_final = RandomForestClassifier(random_state = 0, n_estimators = 8, max_depth = 100)\n",
    "\n",
    "# rf_final.fit(X_train, y_train)"
   ]
  },
  {
   "cell_type": "code",
   "execution_count": 110,
   "metadata": {},
   "outputs": [],
   "source": [
    "# Pickle the model\n",
    "\n",
    "# Importing directory package\n",
    "import os\n",
    "\n",
    "# Define file name\n",
    "model_filename = 'capstone_rf_final.pkl'\n",
    "\n",
    "# Get notebook directory\n",
    "current_dir = os.getcwd()\n",
    "\n",
    "# Create the path to the model file\n",
    "model_path = os.path.join(current_dir, model_filename)\n",
    "\n",
    "# Pickle the model\n",
    "with open(model_path, 'wb') as f:\n",
    "    pickle.dump(rf_final, f)"
   ]
  },
  {
   "cell_type": "code",
   "execution_count": 111,
   "metadata": {},
   "outputs": [],
   "source": [
    "# Read back in pickled model\n",
    "with open(model_path, 'rb') as f:\n",
    "    # Load model back into a variable\n",
    "    rf_final = pickle.load(f)\n",
    "\n",
    "# Since model is pickled I commented out fitting the model"
   ]
  },
  {
   "cell_type": "code",
   "execution_count": 131,
   "metadata": {},
   "outputs": [
    {
     "name": "stdout",
     "output_type": "stream",
     "text": [
      "Feature Importances:\n",
      "satisfaction: 0.2593\n",
      "tenure: 0.1963\n",
      "avg_hours: 0.1533\n",
      "last_evaluation: 0.1236\n",
      "number_project: 0.0947\n",
      "work_accident: 0.0302\n",
      "salary_high: 0.0093\n",
      "salary_medium: 0.0074\n",
      "salary_low: 0.0058\n",
      "department_sales: 0.0049\n",
      "department_technical: 0.0039\n",
      "department_RandD: 0.0038\n",
      "department_support: 0.0033\n",
      "department_IT: 0.0029\n",
      "department_accounting: 0.0020\n",
      "department_management: 0.0019\n",
      "department_hr: 0.0019\n",
      "department_product_mng: 0.0015\n",
      "promotion: 0.0013\n",
      "department_marketing: 0.0011\n"
     ]
    }
   ],
   "source": [
    "# Find feature importance\n",
    "feature_importances = rf_final.feature_importances_\n",
    "feature_names = X.columns.tolist()\n",
    "\n",
    "# Sort together by feature importance in descending order\n",
    "feature_importance_sorted = sorted(zip(feature_names, feature_importances), key=lambda x: x[1], reverse=True)\n",
    "\n",
    "# Print feature names and importance scores\n",
    "print(\"Feature Importances:\")\n",
    "for name, importance in feature_importance_sorted:\n",
    "  print(f\"{name}: {importance:.4f}\")\n"
   ]
  },
  {
   "cell_type": "markdown",
   "metadata": {
    "id": "aF1C4CBhLXbN"
   },
   "source": [
    "## Model Evaluation\n",
    "\n",
    "### Breakdown\n",
    "\n",
    "The top five most influential features that impact if someone will leave (in this order) are:\n",
    "1. satisfaction: 0.2593\n",
    "2. tenure: 0.1963\n",
    "3. avg_hours: 0.1533\n",
    "4. last_evaluation: 0.1236\n",
    "5. number_project: 0.0947\n",
    "This is very useful information. I think that a potential next step in improving the turn over rate, would be doing an employee survey to find out what personally affects an employees job satisfaction..\n",
    "\n",
    "However we do see that hours worked, tenure, and number of projects also effect the overall likelihood someone will leave. These metrics can be used to identify (in combination with the model) individuals who are likely to leave. Focusing on figuring out what _really_ is effecting employee satisfaction, by asking the employees themselves, will be an important next step.\n",
    "\n",
    "But based on the data we DO know that satisfaction drops dramatically with number of projects, and hours worked (see EDA plots). Because of this, outside of deploying the model the focus should be on identifying high workload indiviuduals and figuring out ways to help them; as well as preventing overworking certain employees. \n",
    "\n",
    "I also believe that these would be some important next steps for further understanding the situation:\n",
    "- What department works the most?\n",
    "- What salary range is working the most?\n",
    "- Why are some individuals working on 7 products (satisfaction on 10%) and others working on 2?\n",
    "- How can systems be improved to better support hard working employees, to not only prevent high turnover, but to improve the lives of devoted employees?"
   ]
  },
  {
   "cell_type": "markdown",
   "metadata": {
    "id": "GXrsxT498Z7h"
   },
   "source": [
    "### Summary of Results\n",
    "\n",
    "The model was built to focus on identifying individuals who are at risk of leaving the company. With that in mind, lets examine some results:\n",
    "\n",
    "The total number of test predictions was **5,030**. Out of those 5,030 predictions the model:\n",
    "- Acurrately predicted an employee was going to leave 2,328 times\n",
    "- Acurrately predicted an employee was _not_ going to leave 2,499 times\n",
    "- Falsely predicted an employee would leave, when they actually didn't, 33 times\n",
    "- Falsely predicted an employee would stay, when they actually left, 140 times\n",
    "\n",
    "Overall the model was very accurate, with a small margin of error (3.44%). I believe the best use case of this model, would be to _identify individuals who are not satisfied_, and find ways to better improve their experience. This model will be very helpful, but should also be used in conjunction with finding ways to better improve employee satisfaction overall. This is a huge step in the right direction; and if used correctly, the model will help to not only improve the current state of employee turnover, but also the lives of the individuals impacted by company culture."
   ]
  },
  {
   "cell_type": "markdown",
   "metadata": {},
   "source": [
    "## Recommendations\n",
    "\n",
    "As mentioned prior, my recommedations are as follows:\n",
    "1. To better understand what personally effects employee satisfaction, perform another survey focused on identifying what postively, and negatively effects employee satisfaction personally.\n",
    "2. Use the model to identify 'high risk' individuals who are likely to leave, and approach those individuals to find ways to help improve their work situation.\n",
    "3. Identify employees who are 'work horses', (more than 5 or more projects or an monthly average of 200 hours worked) and find ways to support those individuals.\n",
    "4. Continue forward with analysis to better understand categories (sallary level, department, etc.) have higher levels of employees that are likely to leave/struggle with job satisfaction"
   ]
  }
 ],
 "metadata": {
  "colab": {
   "provenance": []
  },
  "gpuClass": "standard",
  "kernelspec": {
   "display_name": "Python 3",
   "language": "python",
   "name": "python3"
  },
  "language_info": {
   "codemirror_mode": {
    "name": "ipython",
    "version": 3
   },
   "file_extension": ".py",
   "mimetype": "text/x-python",
   "name": "python",
   "nbconvert_exporter": "python",
   "pygments_lexer": "ipython3",
   "version": "3.7.6"
  }
 },
 "nbformat": 4,
 "nbformat_minor": 1
}
